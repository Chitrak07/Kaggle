{
  "nbformat": 4,
  "nbformat_minor": 0,
  "metadata": {
    "colab": {
      "provenance": [],
      "authorship_tag": "ABX9TyPEMh88pCYL7U8tt3OSNfnl",
      "include_colab_link": true
    },
    "kernelspec": {
      "name": "python3",
      "display_name": "Python 3"
    },
    "language_info": {
      "name": "python"
    },
    "accelerator": "GPU",
    "gpuClass": "standard"
  },
  "cells": [
    {
      "cell_type": "markdown",
      "metadata": {
        "id": "view-in-github",
        "colab_type": "text"
      },
      "source": [
        "<a href=\"https://colab.research.google.com/github/Chitrak07/Kaggle/blob/main/godaddy_microbusiness_density_forecasting.ipynb\" target=\"_parent\"><img src=\"https://colab.research.google.com/assets/colab-badge.svg\" alt=\"Open In Colab\"/></a>"
      ]
    },
    {
      "cell_type": "code",
      "execution_count": null,
      "metadata": {
        "colab": {
          "base_uri": "https://localhost:8080/"
        },
        "id": "YCAiW62z-90L",
        "outputId": "ae60800e-0690-441f-8ce2-bde2bf030fba"
      },
      "outputs": [
        {
          "output_type": "stream",
          "name": "stdout",
          "text": [
            "Looking in indexes: https://pypi.org/simple, https://us-python.pkg.dev/colab-wheels/public/simple/\n",
            "Requirement already satisfied: kaggle in /usr/local/lib/python3.8/dist-packages (1.5.12)\n",
            "Requirement already satisfied: python-dateutil in /usr/local/lib/python3.8/dist-packages (from kaggle) (2.8.2)\n",
            "Requirement already satisfied: python-slugify in /usr/local/lib/python3.8/dist-packages (from kaggle) (7.0.0)\n",
            "Requirement already satisfied: six>=1.10 in /usr/local/lib/python3.8/dist-packages (from kaggle) (1.15.0)\n",
            "Requirement already satisfied: certifi in /usr/local/lib/python3.8/dist-packages (from kaggle) (2022.12.7)\n",
            "Requirement already satisfied: tqdm in /usr/local/lib/python3.8/dist-packages (from kaggle) (4.64.1)\n",
            "Requirement already satisfied: requests in /usr/local/lib/python3.8/dist-packages (from kaggle) (2.23.0)\n",
            "Requirement already satisfied: urllib3 in /usr/local/lib/python3.8/dist-packages (from kaggle) (1.24.3)\n",
            "Requirement already satisfied: text-unidecode>=1.3 in /usr/local/lib/python3.8/dist-packages (from python-slugify->kaggle) (1.3)\n",
            "Requirement already satisfied: idna<3,>=2.5 in /usr/local/lib/python3.8/dist-packages (from requests->kaggle) (2.10)\n",
            "Requirement already satisfied: chardet<4,>=3.0.2 in /usr/local/lib/python3.8/dist-packages (from requests->kaggle) (3.0.4)\n"
          ]
        }
      ],
      "source": [
        "! pip install kaggle"
      ]
    },
    {
      "cell_type": "code",
      "source": [
        "from google.colab import files\n",
        "files.upload()"
      ],
      "metadata": {
        "colab": {
          "base_uri": "https://localhost:8080/",
          "height": 91
        },
        "id": "fdjVRsrK_Frc",
        "outputId": "2a6a6e53-7812-4cfa-c76e-0aec7c9a8159"
      },
      "execution_count": null,
      "outputs": [
        {
          "output_type": "display_data",
          "data": {
            "text/plain": [
              "<IPython.core.display.HTML object>"
            ],
            "text/html": [
              "\n",
              "     <input type=\"file\" id=\"files-97c6dc69-ea58-400c-b5f6-0c9c59fb3856\" name=\"files[]\" multiple disabled\n",
              "        style=\"border:none\" />\n",
              "     <output id=\"result-97c6dc69-ea58-400c-b5f6-0c9c59fb3856\">\n",
              "      Upload widget is only available when the cell has been executed in the\n",
              "      current browser session. Please rerun this cell to enable.\n",
              "      </output>\n",
              "      <script>// Copyright 2017 Google LLC\n",
              "//\n",
              "// Licensed under the Apache License, Version 2.0 (the \"License\");\n",
              "// you may not use this file except in compliance with the License.\n",
              "// You may obtain a copy of the License at\n",
              "//\n",
              "//      http://www.apache.org/licenses/LICENSE-2.0\n",
              "//\n",
              "// Unless required by applicable law or agreed to in writing, software\n",
              "// distributed under the License is distributed on an \"AS IS\" BASIS,\n",
              "// WITHOUT WARRANTIES OR CONDITIONS OF ANY KIND, either express or implied.\n",
              "// See the License for the specific language governing permissions and\n",
              "// limitations under the License.\n",
              "\n",
              "/**\n",
              " * @fileoverview Helpers for google.colab Python module.\n",
              " */\n",
              "(function(scope) {\n",
              "function span(text, styleAttributes = {}) {\n",
              "  const element = document.createElement('span');\n",
              "  element.textContent = text;\n",
              "  for (const key of Object.keys(styleAttributes)) {\n",
              "    element.style[key] = styleAttributes[key];\n",
              "  }\n",
              "  return element;\n",
              "}\n",
              "\n",
              "// Max number of bytes which will be uploaded at a time.\n",
              "const MAX_PAYLOAD_SIZE = 100 * 1024;\n",
              "\n",
              "function _uploadFiles(inputId, outputId) {\n",
              "  const steps = uploadFilesStep(inputId, outputId);\n",
              "  const outputElement = document.getElementById(outputId);\n",
              "  // Cache steps on the outputElement to make it available for the next call\n",
              "  // to uploadFilesContinue from Python.\n",
              "  outputElement.steps = steps;\n",
              "\n",
              "  return _uploadFilesContinue(outputId);\n",
              "}\n",
              "\n",
              "// This is roughly an async generator (not supported in the browser yet),\n",
              "// where there are multiple asynchronous steps and the Python side is going\n",
              "// to poll for completion of each step.\n",
              "// This uses a Promise to block the python side on completion of each step,\n",
              "// then passes the result of the previous step as the input to the next step.\n",
              "function _uploadFilesContinue(outputId) {\n",
              "  const outputElement = document.getElementById(outputId);\n",
              "  const steps = outputElement.steps;\n",
              "\n",
              "  const next = steps.next(outputElement.lastPromiseValue);\n",
              "  return Promise.resolve(next.value.promise).then((value) => {\n",
              "    // Cache the last promise value to make it available to the next\n",
              "    // step of the generator.\n",
              "    outputElement.lastPromiseValue = value;\n",
              "    return next.value.response;\n",
              "  });\n",
              "}\n",
              "\n",
              "/**\n",
              " * Generator function which is called between each async step of the upload\n",
              " * process.\n",
              " * @param {string} inputId Element ID of the input file picker element.\n",
              " * @param {string} outputId Element ID of the output display.\n",
              " * @return {!Iterable<!Object>} Iterable of next steps.\n",
              " */\n",
              "function* uploadFilesStep(inputId, outputId) {\n",
              "  const inputElement = document.getElementById(inputId);\n",
              "  inputElement.disabled = false;\n",
              "\n",
              "  const outputElement = document.getElementById(outputId);\n",
              "  outputElement.innerHTML = '';\n",
              "\n",
              "  const pickedPromise = new Promise((resolve) => {\n",
              "    inputElement.addEventListener('change', (e) => {\n",
              "      resolve(e.target.files);\n",
              "    });\n",
              "  });\n",
              "\n",
              "  const cancel = document.createElement('button');\n",
              "  inputElement.parentElement.appendChild(cancel);\n",
              "  cancel.textContent = 'Cancel upload';\n",
              "  const cancelPromise = new Promise((resolve) => {\n",
              "    cancel.onclick = () => {\n",
              "      resolve(null);\n",
              "    };\n",
              "  });\n",
              "\n",
              "  // Wait for the user to pick the files.\n",
              "  const files = yield {\n",
              "    promise: Promise.race([pickedPromise, cancelPromise]),\n",
              "    response: {\n",
              "      action: 'starting',\n",
              "    }\n",
              "  };\n",
              "\n",
              "  cancel.remove();\n",
              "\n",
              "  // Disable the input element since further picks are not allowed.\n",
              "  inputElement.disabled = true;\n",
              "\n",
              "  if (!files) {\n",
              "    return {\n",
              "      response: {\n",
              "        action: 'complete',\n",
              "      }\n",
              "    };\n",
              "  }\n",
              "\n",
              "  for (const file of files) {\n",
              "    const li = document.createElement('li');\n",
              "    li.append(span(file.name, {fontWeight: 'bold'}));\n",
              "    li.append(span(\n",
              "        `(${file.type || 'n/a'}) - ${file.size} bytes, ` +\n",
              "        `last modified: ${\n",
              "            file.lastModifiedDate ? file.lastModifiedDate.toLocaleDateString() :\n",
              "                                    'n/a'} - `));\n",
              "    const percent = span('0% done');\n",
              "    li.appendChild(percent);\n",
              "\n",
              "    outputElement.appendChild(li);\n",
              "\n",
              "    const fileDataPromise = new Promise((resolve) => {\n",
              "      const reader = new FileReader();\n",
              "      reader.onload = (e) => {\n",
              "        resolve(e.target.result);\n",
              "      };\n",
              "      reader.readAsArrayBuffer(file);\n",
              "    });\n",
              "    // Wait for the data to be ready.\n",
              "    let fileData = yield {\n",
              "      promise: fileDataPromise,\n",
              "      response: {\n",
              "        action: 'continue',\n",
              "      }\n",
              "    };\n",
              "\n",
              "    // Use a chunked sending to avoid message size limits. See b/62115660.\n",
              "    let position = 0;\n",
              "    do {\n",
              "      const length = Math.min(fileData.byteLength - position, MAX_PAYLOAD_SIZE);\n",
              "      const chunk = new Uint8Array(fileData, position, length);\n",
              "      position += length;\n",
              "\n",
              "      const base64 = btoa(String.fromCharCode.apply(null, chunk));\n",
              "      yield {\n",
              "        response: {\n",
              "          action: 'append',\n",
              "          file: file.name,\n",
              "          data: base64,\n",
              "        },\n",
              "      };\n",
              "\n",
              "      let percentDone = fileData.byteLength === 0 ?\n",
              "          100 :\n",
              "          Math.round((position / fileData.byteLength) * 100);\n",
              "      percent.textContent = `${percentDone}% done`;\n",
              "\n",
              "    } while (position < fileData.byteLength);\n",
              "  }\n",
              "\n",
              "  // All done.\n",
              "  yield {\n",
              "    response: {\n",
              "      action: 'complete',\n",
              "    }\n",
              "  };\n",
              "}\n",
              "\n",
              "scope.google = scope.google || {};\n",
              "scope.google.colab = scope.google.colab || {};\n",
              "scope.google.colab._files = {\n",
              "  _uploadFiles,\n",
              "  _uploadFilesContinue,\n",
              "};\n",
              "})(self);\n",
              "</script> "
            ]
          },
          "metadata": {}
        },
        {
          "output_type": "stream",
          "name": "stdout",
          "text": [
            "Saving kaggle.json to kaggle.json\n"
          ]
        },
        {
          "output_type": "execute_result",
          "data": {
            "text/plain": [
              "{'kaggle.json': b'{\"username\":\"shubhamkumarvaish\",\"key\":\"e9b84c4d3ac13462bad15f7f3412e375\"}'}"
            ]
          },
          "metadata": {},
          "execution_count": 2
        }
      ]
    },
    {
      "cell_type": "code",
      "source": [
        "! mkdir ~/.kaggle"
      ],
      "metadata": {
        "id": "yKvkESrH_Kbm"
      },
      "execution_count": null,
      "outputs": []
    },
    {
      "cell_type": "code",
      "source": [
        "! cp kaggle.json ~/.kaggle/"
      ],
      "metadata": {
        "id": "cEd_v4IK_Kei"
      },
      "execution_count": null,
      "outputs": []
    },
    {
      "cell_type": "code",
      "source": [
        "! chmod 600 ~/.kaggle/kaggle.json"
      ],
      "metadata": {
        "id": "labKJGNa_Khh"
      },
      "execution_count": null,
      "outputs": []
    },
    {
      "cell_type": "code",
      "source": [
        "!kaggle competitions download -c godaddy-microbusiness-density-forecasting"
      ],
      "metadata": {
        "colab": {
          "base_uri": "https://localhost:8080/"
        },
        "id": "kdsVGU4t_KkO",
        "outputId": "5351580b-a4e5-4d92-b413-701a78c19cbf"
      },
      "execution_count": null,
      "outputs": [
        {
          "output_type": "stream",
          "name": "stdout",
          "text": [
            "Downloading godaddy-microbusiness-density-forecasting.zip to /content\n",
            "\r  0% 0.00/1.74M [00:00<?, ?B/s]\n",
            "\r100% 1.74M/1.74M [00:00<00:00, 163MB/s]\n"
          ]
        }
      ]
    },
    {
      "cell_type": "code",
      "source": [
        "!unzip /content/godaddy-microbusiness-density-forecasting.zip"
      ],
      "metadata": {
        "colab": {
          "base_uri": "https://localhost:8080/"
        },
        "id": "rFlt_20HAGkb",
        "outputId": "8bd5e87f-e8fa-45c9-8f82-1e0afc04d134"
      },
      "execution_count": null,
      "outputs": [
        {
          "output_type": "stream",
          "name": "stdout",
          "text": [
            "Archive:  /content/godaddy-microbusiness-density-forecasting.zip\n",
            "replace census_starter.csv? [y]es, [n]o, [A]ll, [N]one, [r]ename: y\n",
            "  inflating: census_starter.csv      \n",
            "replace sample_submission.csv? [y]es, [n]o, [A]ll, [N]one, [r]ename: y\n",
            "  inflating: sample_submission.csv   \n",
            "replace test.csv? [y]es, [n]o, [A]ll, [N]one, [r]ename: y\n",
            "  inflating: test.csv                \n",
            "replace train.csv? [y]es, [n]o, [A]ll, [N]one, [r]ename: y\n",
            "  inflating: train.csv               \n"
          ]
        }
      ]
    },
    {
      "cell_type": "code",
      "source": [
        "import pandas as pd \n",
        "import numpy as np\n",
        "from sklearn.linear_model import LinearRegression\n",
        "from sklearn.model_selection import cross_val_score\n",
        "from sklearn.metrics import mean_absolute_error, make_scorer\n",
        "path = '/content/'"
      ],
      "metadata": {
        "id": "RCXF9JaU34gn"
      },
      "execution_count": null,
      "outputs": []
    },
    {
      "cell_type": "code",
      "source": [
        "train = pd.read_csv(path + 'train.csv')\n",
        "test = pd.read_csv(path + 'test.csv')\n",
        "train[\"first_day_of_month\"] = pd.to_datetime(train[\"first_day_of_month\"])\n",
        "test[\"first_day_of_month\"] = pd.to_datetime(test[\"first_day_of_month\"])"
      ],
      "metadata": {
        "id": "tYmLfxKPyTEh"
      },
      "execution_count": null,
      "outputs": []
    },
    {
      "cell_type": "code",
      "source": [
        "train.describe()"
      ],
      "metadata": {
        "colab": {
          "base_uri": "https://localhost:8080/",
          "height": 300
        },
        "id": "AYhOL8fG01m-",
        "outputId": "ee966777-c525-47c1-bbe2-6eb6f9231aba"
      },
      "execution_count": null,
      "outputs": [
        {
          "output_type": "execute_result",
          "data": {
            "text/plain": [
              "               cfips  microbusiness_density        active\n",
              "count  122265.000000          122265.000000  1.222650e+05\n",
              "mean    30376.037640               3.817671  6.442858e+03\n",
              "std     15143.508721               4.991087  3.304001e+04\n",
              "min      1001.000000               0.000000  0.000000e+00\n",
              "25%     18177.000000               1.639344  1.450000e+02\n",
              "50%     29173.000000               2.586543  4.880000e+02\n",
              "75%     45077.000000               4.519231  2.124000e+03\n",
              "max     56045.000000             284.340030  1.167744e+06"
            ],
            "text/html": [
              "\n",
              "  <div id=\"df-49704744-7513-4458-a6cf-1569f2907d1e\">\n",
              "    <div class=\"colab-df-container\">\n",
              "      <div>\n",
              "<style scoped>\n",
              "    .dataframe tbody tr th:only-of-type {\n",
              "        vertical-align: middle;\n",
              "    }\n",
              "\n",
              "    .dataframe tbody tr th {\n",
              "        vertical-align: top;\n",
              "    }\n",
              "\n",
              "    .dataframe thead th {\n",
              "        text-align: right;\n",
              "    }\n",
              "</style>\n",
              "<table border=\"1\" class=\"dataframe\">\n",
              "  <thead>\n",
              "    <tr style=\"text-align: right;\">\n",
              "      <th></th>\n",
              "      <th>cfips</th>\n",
              "      <th>microbusiness_density</th>\n",
              "      <th>active</th>\n",
              "    </tr>\n",
              "  </thead>\n",
              "  <tbody>\n",
              "    <tr>\n",
              "      <th>count</th>\n",
              "      <td>122265.000000</td>\n",
              "      <td>122265.000000</td>\n",
              "      <td>1.222650e+05</td>\n",
              "    </tr>\n",
              "    <tr>\n",
              "      <th>mean</th>\n",
              "      <td>30376.037640</td>\n",
              "      <td>3.817671</td>\n",
              "      <td>6.442858e+03</td>\n",
              "    </tr>\n",
              "    <tr>\n",
              "      <th>std</th>\n",
              "      <td>15143.508721</td>\n",
              "      <td>4.991087</td>\n",
              "      <td>3.304001e+04</td>\n",
              "    </tr>\n",
              "    <tr>\n",
              "      <th>min</th>\n",
              "      <td>1001.000000</td>\n",
              "      <td>0.000000</td>\n",
              "      <td>0.000000e+00</td>\n",
              "    </tr>\n",
              "    <tr>\n",
              "      <th>25%</th>\n",
              "      <td>18177.000000</td>\n",
              "      <td>1.639344</td>\n",
              "      <td>1.450000e+02</td>\n",
              "    </tr>\n",
              "    <tr>\n",
              "      <th>50%</th>\n",
              "      <td>29173.000000</td>\n",
              "      <td>2.586543</td>\n",
              "      <td>4.880000e+02</td>\n",
              "    </tr>\n",
              "    <tr>\n",
              "      <th>75%</th>\n",
              "      <td>45077.000000</td>\n",
              "      <td>4.519231</td>\n",
              "      <td>2.124000e+03</td>\n",
              "    </tr>\n",
              "    <tr>\n",
              "      <th>max</th>\n",
              "      <td>56045.000000</td>\n",
              "      <td>284.340030</td>\n",
              "      <td>1.167744e+06</td>\n",
              "    </tr>\n",
              "  </tbody>\n",
              "</table>\n",
              "</div>\n",
              "      <button class=\"colab-df-convert\" onclick=\"convertToInteractive('df-49704744-7513-4458-a6cf-1569f2907d1e')\"\n",
              "              title=\"Convert this dataframe to an interactive table.\"\n",
              "              style=\"display:none;\">\n",
              "        \n",
              "  <svg xmlns=\"http://www.w3.org/2000/svg\" height=\"24px\"viewBox=\"0 0 24 24\"\n",
              "       width=\"24px\">\n",
              "    <path d=\"M0 0h24v24H0V0z\" fill=\"none\"/>\n",
              "    <path d=\"M18.56 5.44l.94 2.06.94-2.06 2.06-.94-2.06-.94-.94-2.06-.94 2.06-2.06.94zm-11 1L8.5 8.5l.94-2.06 2.06-.94-2.06-.94L8.5 2.5l-.94 2.06-2.06.94zm10 10l.94 2.06.94-2.06 2.06-.94-2.06-.94-.94-2.06-.94 2.06-2.06.94z\"/><path d=\"M17.41 7.96l-1.37-1.37c-.4-.4-.92-.59-1.43-.59-.52 0-1.04.2-1.43.59L10.3 9.45l-7.72 7.72c-.78.78-.78 2.05 0 2.83L4 21.41c.39.39.9.59 1.41.59.51 0 1.02-.2 1.41-.59l7.78-7.78 2.81-2.81c.8-.78.8-2.07 0-2.86zM5.41 20L4 18.59l7.72-7.72 1.47 1.35L5.41 20z\"/>\n",
              "  </svg>\n",
              "      </button>\n",
              "      \n",
              "  <style>\n",
              "    .colab-df-container {\n",
              "      display:flex;\n",
              "      flex-wrap:wrap;\n",
              "      gap: 12px;\n",
              "    }\n",
              "\n",
              "    .colab-df-convert {\n",
              "      background-color: #E8F0FE;\n",
              "      border: none;\n",
              "      border-radius: 50%;\n",
              "      cursor: pointer;\n",
              "      display: none;\n",
              "      fill: #1967D2;\n",
              "      height: 32px;\n",
              "      padding: 0 0 0 0;\n",
              "      width: 32px;\n",
              "    }\n",
              "\n",
              "    .colab-df-convert:hover {\n",
              "      background-color: #E2EBFA;\n",
              "      box-shadow: 0px 1px 2px rgba(60, 64, 67, 0.3), 0px 1px 3px 1px rgba(60, 64, 67, 0.15);\n",
              "      fill: #174EA6;\n",
              "    }\n",
              "\n",
              "    [theme=dark] .colab-df-convert {\n",
              "      background-color: #3B4455;\n",
              "      fill: #D2E3FC;\n",
              "    }\n",
              "\n",
              "    [theme=dark] .colab-df-convert:hover {\n",
              "      background-color: #434B5C;\n",
              "      box-shadow: 0px 1px 3px 1px rgba(0, 0, 0, 0.15);\n",
              "      filter: drop-shadow(0px 1px 2px rgba(0, 0, 0, 0.3));\n",
              "      fill: #FFFFFF;\n",
              "    }\n",
              "  </style>\n",
              "\n",
              "      <script>\n",
              "        const buttonEl =\n",
              "          document.querySelector('#df-49704744-7513-4458-a6cf-1569f2907d1e button.colab-df-convert');\n",
              "        buttonEl.style.display =\n",
              "          google.colab.kernel.accessAllowed ? 'block' : 'none';\n",
              "\n",
              "        async function convertToInteractive(key) {\n",
              "          const element = document.querySelector('#df-49704744-7513-4458-a6cf-1569f2907d1e');\n",
              "          const dataTable =\n",
              "            await google.colab.kernel.invokeFunction('convertToInteractive',\n",
              "                                                     [key], {});\n",
              "          if (!dataTable) return;\n",
              "\n",
              "          const docLinkHtml = 'Like what you see? Visit the ' +\n",
              "            '<a target=\"_blank\" href=https://colab.research.google.com/notebooks/data_table.ipynb>data table notebook</a>'\n",
              "            + ' to learn more about interactive tables.';\n",
              "          element.innerHTML = '';\n",
              "          dataTable['output_type'] = 'display_data';\n",
              "          await google.colab.output.renderOutput(dataTable, element);\n",
              "          const docLink = document.createElement('div');\n",
              "          docLink.innerHTML = docLinkHtml;\n",
              "          element.appendChild(docLink);\n",
              "        }\n",
              "      </script>\n",
              "    </div>\n",
              "  </div>\n",
              "  "
            ]
          },
          "metadata": {},
          "execution_count": 154
        }
      ]
    },
    {
      "cell_type": "code",
      "source": [
        "print(train.columns.tolist())"
      ],
      "metadata": {
        "colab": {
          "base_uri": "https://localhost:8080/"
        },
        "id": "4dJriBa51OMh",
        "outputId": "12657eac-2071-41a3-875c-09eb38fce05a"
      },
      "execution_count": null,
      "outputs": [
        {
          "output_type": "stream",
          "name": "stdout",
          "text": [
            "['row_id', 'cfips', 'county', 'state', 'first_day_of_month', 'microbusiness_density', 'active']\n"
          ]
        }
      ]
    },
    {
      "cell_type": "code",
      "source": [
        "train.head"
      ],
      "metadata": {
        "colab": {
          "base_uri": "https://localhost:8080/"
        },
        "id": "srw_jLRu1OvY",
        "outputId": "14a5aac3-f1d1-475d-9ebb-41cb6e8822b9"
      },
      "execution_count": null,
      "outputs": [
        {
          "output_type": "execute_result",
          "data": {
            "text/plain": [
              "<bound method NDFrame.head of                   row_id  cfips          county    state first_day_of_month  \\\n",
              "0        1001_2019-08-01   1001  Autauga County  Alabama         2019-08-01   \n",
              "1        1001_2019-09-01   1001  Autauga County  Alabama         2019-09-01   \n",
              "2        1001_2019-10-01   1001  Autauga County  Alabama         2019-10-01   \n",
              "3        1001_2019-11-01   1001  Autauga County  Alabama         2019-11-01   \n",
              "4        1001_2019-12-01   1001  Autauga County  Alabama         2019-12-01   \n",
              "...                  ...    ...             ...      ...                ...   \n",
              "122260  56045_2022-06-01  56045   Weston County  Wyoming         2022-06-01   \n",
              "122261  56045_2022-07-01  56045   Weston County  Wyoming         2022-07-01   \n",
              "122262  56045_2022-08-01  56045   Weston County  Wyoming         2022-08-01   \n",
              "122263  56045_2022-09-01  56045   Weston County  Wyoming         2022-09-01   \n",
              "122264  56045_2022-10-01  56045   Weston County  Wyoming         2022-10-01   \n",
              "\n",
              "        microbusiness_density  active  \n",
              "0                    3.007682    1249  \n",
              "1                    2.884870    1198  \n",
              "2                    3.055843    1269  \n",
              "3                    2.993233    1243  \n",
              "4                    2.993233    1243  \n",
              "...                       ...     ...  \n",
              "122260               1.803249     101  \n",
              "122261               1.803249     101  \n",
              "122262               1.785395     100  \n",
              "122263               1.785395     100  \n",
              "122264               1.785395     100  \n",
              "\n",
              "[122265 rows x 7 columns]>"
            ]
          },
          "metadata": {},
          "execution_count": 156
        }
      ]
    },
    {
      "cell_type": "code",
      "source": [
        "percent_missing = train.isnull().sum() * 100 / len(train)\n",
        "print(percent_missing)"
      ],
      "metadata": {
        "colab": {
          "base_uri": "https://localhost:8080/"
        },
        "id": "lb75e01j1XBS",
        "outputId": "b7edfc3f-186d-425b-b276-9e874ddcd0ba"
      },
      "execution_count": null,
      "outputs": [
        {
          "output_type": "stream",
          "name": "stdout",
          "text": [
            "row_id                   0.0\n",
            "cfips                    0.0\n",
            "county                   0.0\n",
            "state                    0.0\n",
            "first_day_of_month       0.0\n",
            "microbusiness_density    0.0\n",
            "active                   0.0\n",
            "dtype: float64\n"
          ]
        }
      ]
    },
    {
      "cell_type": "code",
      "source": [
        "train.info()"
      ],
      "metadata": {
        "colab": {
          "base_uri": "https://localhost:8080/"
        },
        "id": "TH8BHbms1XEK",
        "outputId": "57ed45f9-01c9-42bc-8bf5-2705113c4acb"
      },
      "execution_count": null,
      "outputs": [
        {
          "output_type": "stream",
          "name": "stdout",
          "text": [
            "<class 'pandas.core.frame.DataFrame'>\n",
            "RangeIndex: 122265 entries, 0 to 122264\n",
            "Data columns (total 7 columns):\n",
            " #   Column                 Non-Null Count   Dtype         \n",
            "---  ------                 --------------   -----         \n",
            " 0   row_id                 122265 non-null  object        \n",
            " 1   cfips                  122265 non-null  int64         \n",
            " 2   county                 122265 non-null  object        \n",
            " 3   state                  122265 non-null  object        \n",
            " 4   first_day_of_month     122265 non-null  datetime64[ns]\n",
            " 5   microbusiness_density  122265 non-null  float64       \n",
            " 6   active                 122265 non-null  int64         \n",
            "dtypes: datetime64[ns](1), float64(1), int64(2), object(3)\n",
            "memory usage: 6.5+ MB\n"
          ]
        }
      ]
    },
    {
      "cell_type": "code",
      "source": [
        "import xgboost as xgb"
      ],
      "metadata": {
        "id": "Boz7rQIK1XGo"
      },
      "execution_count": null,
      "outputs": []
    },
    {
      "cell_type": "code",
      "source": [
        "THRESHOLD = 8\n",
        "ACTIVE_THRESHOLD = 2000\n",
        "TRAIN_SZ = len(train)//3135  # 39\n",
        "TEST_SZ = len(test)//3135    # 8"
      ],
      "metadata": {
        "id": "bXPgl8ChyTan"
      },
      "execution_count": null,
      "outputs": []
    },
    {
      "cell_type": "code",
      "source": [
        "from sklearn.ensemble import RandomForestRegressor"
      ],
      "metadata": {
        "id": "nPDUQyGh2awt"
      },
      "execution_count": null,
      "outputs": []
    },
    {
      "cell_type": "code",
      "source": [
        "ids = train.cfips.unique() # Unique identifiers for regions\n",
        "\n",
        "x_train = np.arange(TRAIN_SZ).reshape((-1,1))\n",
        "x_test = np.arange(TRAIN_SZ-1,TRAIN_SZ+TEST_SZ).reshape((-1,1))\n",
        "\n",
        "linear_preds = np.zeros(len(ids))\n",
        "last_preds = np.zeros(len(ids))\n",
        "seasonal_preds = np.zeros(len(ids))\n",
        "\n",
        "sn_trend = 0\n",
        "lin_trend = 0\n",
        "ct=0\n",
        "for i, c in enumerate(ids):\n",
        "    df = train.loc[train.cfips == c]\n",
        "    \n",
        "    last = df.microbusiness_density.values[-1]\n",
        "    active = df.active.values[-1]\n",
        "    \n",
        "    last_preds[i] = last\n",
        "    \n",
        "    # Seasonal forecast\n",
        "    WIDTH1 = 5; WIDTH2 = 7; WIDTH3 = 7\n",
        "\n",
        "   # Recent trend\n",
        "    x0a = df.microbusiness_density.values[-1-WIDTH1:-1]\n",
        "    x0 = np.median(x0a)\n",
        "    # 1 year old trend\n",
        "    x1 = df.microbusiness_density.values[-12-1+1]\n",
        "    x2a = df.microbusiness_density.values[-12-1-WIDTH2+1:-12-1+1]\n",
        "    x2 = np.median(x2a)\n",
        "  \n",
        "    x3 = df.microbusiness_density.values[-24-1+1]\n",
        "    x4a = df.microbusiness_density.values[-24-1-WIDTH3+1:-24-1+1]\n",
        "    x4 = np.median(x4a)\n",
        "\n",
        "\n",
        "    p = last \n",
        "    if active >= ACTIVE_THRESHOLD:         \n",
        "        if (x1 > x2) and (x3 > x4) and (last > x0):\n",
        "            p *= 1.004\n",
        "        elif (x1 < x2) and (x3 < x4) and (last < x0):\n",
        "            p *= 0.996\n",
        "    seasonal_preds[i] = p\n",
        "    \n",
        "    # Linear regression\n",
        "   # model = LinearRegression()\n",
        "   # model.fit(x_train, df.microbusiness_density)\n",
        "  #p = model.predict(x_train)\n",
        "   # err = p - df.microbusiness_density.values\n",
        "   # rng = df.microbusiness_density.max() - df.microbusiness_density.min()\n",
        "   \n",
        "    #RandomForestRegressor  xgb\n",
        "    \n",
        "    model = LinearRegression()\n",
        "    model.fit(x_train, df.microbusiness_density)\n",
        "    p = model.predict(x_train)\n",
        "    err = p - df.microbusiness_density.values\n",
        "    rng = df.microbusiness_density.max() - df.microbusiness_density.min()\n",
        "\n",
        "    # Determine if the time series is linear or not\n",
        "    s = 0\n",
        "    for k in range(TRAIN_SZ):\n",
        "        e = np.abs(err[k])\n",
        "        r = e / (rng/2)\n",
        "        s += r\n",
        "    if (s > THRESHOLD) or (active < ACTIVE_THRESHOLD):\n",
        "        # If the time series is not linear or activity is below the threshold\n",
        "        # values use last value as prediction\n",
        "        linear_preds[i] = last\n",
        "    else:\n",
        "        # Otherwise, use linear regression\n",
        "        p2 = model.predict(x_test)\n",
        "        shift = last - p2[0]\n",
        "        linear_preds[i] = p2[1] + shift\n",
        "        lin_trend += 1\n",
        "        \n",
        "# Final predictions using a combination of linear,\n",
        "# seasonal and last value forecasts\n",
        "final_preds = (linear_preds + last_preds + seasonal_preds) / 3"
      ],
      "metadata": {
        "id": "qYtGaK8ayUpK"
      },
      "execution_count": null,
      "outputs": []
    },
    {
      "cell_type": "code",
      "source": [
        "target = pd.DataFrame(data={\"microbusiness_density\":final_preds}, index=ids)"
      ],
      "metadata": {
        "id": "-ufKAUdJyW91"
      },
      "execution_count": null,
      "outputs": []
    },
    {
      "cell_type": "code",
      "source": [
        "test = test.join(target, on=\"cfips\")[[\"row_id\", \"microbusiness_density\"]]"
      ],
      "metadata": {
        "id": "Xv6X4DFlyYL8"
      },
      "execution_count": null,
      "outputs": []
    },
    {
      "cell_type": "code",
      "source": [
        "test.to_csv(\"submissionl2.csv\", index=False)"
      ],
      "metadata": {
        "id": "02qySJguyZgG"
      },
      "execution_count": null,
      "outputs": []
    },
    {
      "cell_type": "code",
      "source": [],
      "metadata": {
        "id": "xzfFR6scyak_"
      },
      "execution_count": null,
      "outputs": []
    }
  ]
}