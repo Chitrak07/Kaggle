{
  "nbformat": 4,
  "nbformat_minor": 0,
  "metadata": {
    "colab": {
      "provenance": [],
      "authorship_tag": "ABX9TyMn/pzflQ4VMdUA4qis6Wqe",
      "include_colab_link": true
    },
    "kernelspec": {
      "name": "python3",
      "display_name": "Python 3"
    },
    "language_info": {
      "name": "python"
    },
    "accelerator": "GPU",
    "gpuClass": "standard"
  },
  "cells": [
    {
      "cell_type": "markdown",
      "metadata": {
        "id": "view-in-github",
        "colab_type": "text"
      },
      "source": [
        "<a href=\"https://colab.research.google.com/github/Chitrak07/Kaggle/blob/main/santa2022_2.ipynb\" target=\"_parent\"><img src=\"https://colab.research.google.com/assets/colab-badge.svg\" alt=\"Open In Colab\"/></a>"
      ]
    },
    {
      "cell_type": "code",
      "execution_count": 1,
      "metadata": {
        "colab": {
          "base_uri": "https://localhost:8080/"
        },
        "id": "czIAAZEyyjy_",
        "outputId": "73a5c8e6-3585-4140-b969-0cf9caef1fdc"
      },
      "outputs": [
        {
          "output_type": "stream",
          "name": "stdout",
          "text": [
            "Looking in indexes: https://pypi.org/simple, https://us-python.pkg.dev/colab-wheels/public/simple/\n",
            "Requirement already satisfied: kaggle in /usr/local/lib/python3.8/dist-packages (1.5.12)\n",
            "Requirement already satisfied: six>=1.10 in /usr/local/lib/python3.8/dist-packages (from kaggle) (1.15.0)\n",
            "Requirement already satisfied: python-dateutil in /usr/local/lib/python3.8/dist-packages (from kaggle) (2.8.2)\n",
            "Requirement already satisfied: python-slugify in /usr/local/lib/python3.8/dist-packages (from kaggle) (7.0.0)\n",
            "Requirement already satisfied: urllib3 in /usr/local/lib/python3.8/dist-packages (from kaggle) (1.24.3)\n",
            "Requirement already satisfied: certifi in /usr/local/lib/python3.8/dist-packages (from kaggle) (2022.12.7)\n",
            "Requirement already satisfied: tqdm in /usr/local/lib/python3.8/dist-packages (from kaggle) (4.64.1)\n",
            "Requirement already satisfied: requests in /usr/local/lib/python3.8/dist-packages (from kaggle) (2.23.0)\n",
            "Requirement already satisfied: text-unidecode>=1.3 in /usr/local/lib/python3.8/dist-packages (from python-slugify->kaggle) (1.3)\n",
            "Requirement already satisfied: chardet<4,>=3.0.2 in /usr/local/lib/python3.8/dist-packages (from requests->kaggle) (3.0.4)\n",
            "Requirement already satisfied: idna<3,>=2.5 in /usr/local/lib/python3.8/dist-packages (from requests->kaggle) (2.10)\n"
          ]
        }
      ],
      "source": [
        "! pip install kaggle"
      ]
    },
    {
      "cell_type": "code",
      "source": [
        "from google.colab import files\n",
        "files.upload()"
      ],
      "metadata": {
        "colab": {
          "base_uri": "https://localhost:8080/",
          "height": 91
        },
        "id": "gHCu1vVTyrGK",
        "outputId": "029a842d-0e9f-41b5-e439-7557ed8fa2cb"
      },
      "execution_count": 2,
      "outputs": [
        {
          "output_type": "display_data",
          "data": {
            "text/plain": [
              "<IPython.core.display.HTML object>"
            ],
            "text/html": [
              "\n",
              "     <input type=\"file\" id=\"files-f8ec4670-55d5-4612-864e-f8bc65c0b1c6\" name=\"files[]\" multiple disabled\n",
              "        style=\"border:none\" />\n",
              "     <output id=\"result-f8ec4670-55d5-4612-864e-f8bc65c0b1c6\">\n",
              "      Upload widget is only available when the cell has been executed in the\n",
              "      current browser session. Please rerun this cell to enable.\n",
              "      </output>\n",
              "      <script>// Copyright 2017 Google LLC\n",
              "//\n",
              "// Licensed under the Apache License, Version 2.0 (the \"License\");\n",
              "// you may not use this file except in compliance with the License.\n",
              "// You may obtain a copy of the License at\n",
              "//\n",
              "//      http://www.apache.org/licenses/LICENSE-2.0\n",
              "//\n",
              "// Unless required by applicable law or agreed to in writing, software\n",
              "// distributed under the License is distributed on an \"AS IS\" BASIS,\n",
              "// WITHOUT WARRANTIES OR CONDITIONS OF ANY KIND, either express or implied.\n",
              "// See the License for the specific language governing permissions and\n",
              "// limitations under the License.\n",
              "\n",
              "/**\n",
              " * @fileoverview Helpers for google.colab Python module.\n",
              " */\n",
              "(function(scope) {\n",
              "function span(text, styleAttributes = {}) {\n",
              "  const element = document.createElement('span');\n",
              "  element.textContent = text;\n",
              "  for (const key of Object.keys(styleAttributes)) {\n",
              "    element.style[key] = styleAttributes[key];\n",
              "  }\n",
              "  return element;\n",
              "}\n",
              "\n",
              "// Max number of bytes which will be uploaded at a time.\n",
              "const MAX_PAYLOAD_SIZE = 100 * 1024;\n",
              "\n",
              "function _uploadFiles(inputId, outputId) {\n",
              "  const steps = uploadFilesStep(inputId, outputId);\n",
              "  const outputElement = document.getElementById(outputId);\n",
              "  // Cache steps on the outputElement to make it available for the next call\n",
              "  // to uploadFilesContinue from Python.\n",
              "  outputElement.steps = steps;\n",
              "\n",
              "  return _uploadFilesContinue(outputId);\n",
              "}\n",
              "\n",
              "// This is roughly an async generator (not supported in the browser yet),\n",
              "// where there are multiple asynchronous steps and the Python side is going\n",
              "// to poll for completion of each step.\n",
              "// This uses a Promise to block the python side on completion of each step,\n",
              "// then passes the result of the previous step as the input to the next step.\n",
              "function _uploadFilesContinue(outputId) {\n",
              "  const outputElement = document.getElementById(outputId);\n",
              "  const steps = outputElement.steps;\n",
              "\n",
              "  const next = steps.next(outputElement.lastPromiseValue);\n",
              "  return Promise.resolve(next.value.promise).then((value) => {\n",
              "    // Cache the last promise value to make it available to the next\n",
              "    // step of the generator.\n",
              "    outputElement.lastPromiseValue = value;\n",
              "    return next.value.response;\n",
              "  });\n",
              "}\n",
              "\n",
              "/**\n",
              " * Generator function which is called between each async step of the upload\n",
              " * process.\n",
              " * @param {string} inputId Element ID of the input file picker element.\n",
              " * @param {string} outputId Element ID of the output display.\n",
              " * @return {!Iterable<!Object>} Iterable of next steps.\n",
              " */\n",
              "function* uploadFilesStep(inputId, outputId) {\n",
              "  const inputElement = document.getElementById(inputId);\n",
              "  inputElement.disabled = false;\n",
              "\n",
              "  const outputElement = document.getElementById(outputId);\n",
              "  outputElement.innerHTML = '';\n",
              "\n",
              "  const pickedPromise = new Promise((resolve) => {\n",
              "    inputElement.addEventListener('change', (e) => {\n",
              "      resolve(e.target.files);\n",
              "    });\n",
              "  });\n",
              "\n",
              "  const cancel = document.createElement('button');\n",
              "  inputElement.parentElement.appendChild(cancel);\n",
              "  cancel.textContent = 'Cancel upload';\n",
              "  const cancelPromise = new Promise((resolve) => {\n",
              "    cancel.onclick = () => {\n",
              "      resolve(null);\n",
              "    };\n",
              "  });\n",
              "\n",
              "  // Wait for the user to pick the files.\n",
              "  const files = yield {\n",
              "    promise: Promise.race([pickedPromise, cancelPromise]),\n",
              "    response: {\n",
              "      action: 'starting',\n",
              "    }\n",
              "  };\n",
              "\n",
              "  cancel.remove();\n",
              "\n",
              "  // Disable the input element since further picks are not allowed.\n",
              "  inputElement.disabled = true;\n",
              "\n",
              "  if (!files) {\n",
              "    return {\n",
              "      response: {\n",
              "        action: 'complete',\n",
              "      }\n",
              "    };\n",
              "  }\n",
              "\n",
              "  for (const file of files) {\n",
              "    const li = document.createElement('li');\n",
              "    li.append(span(file.name, {fontWeight: 'bold'}));\n",
              "    li.append(span(\n",
              "        `(${file.type || 'n/a'}) - ${file.size} bytes, ` +\n",
              "        `last modified: ${\n",
              "            file.lastModifiedDate ? file.lastModifiedDate.toLocaleDateString() :\n",
              "                                    'n/a'} - `));\n",
              "    const percent = span('0% done');\n",
              "    li.appendChild(percent);\n",
              "\n",
              "    outputElement.appendChild(li);\n",
              "\n",
              "    const fileDataPromise = new Promise((resolve) => {\n",
              "      const reader = new FileReader();\n",
              "      reader.onload = (e) => {\n",
              "        resolve(e.target.result);\n",
              "      };\n",
              "      reader.readAsArrayBuffer(file);\n",
              "    });\n",
              "    // Wait for the data to be ready.\n",
              "    let fileData = yield {\n",
              "      promise: fileDataPromise,\n",
              "      response: {\n",
              "        action: 'continue',\n",
              "      }\n",
              "    };\n",
              "\n",
              "    // Use a chunked sending to avoid message size limits. See b/62115660.\n",
              "    let position = 0;\n",
              "    do {\n",
              "      const length = Math.min(fileData.byteLength - position, MAX_PAYLOAD_SIZE);\n",
              "      const chunk = new Uint8Array(fileData, position, length);\n",
              "      position += length;\n",
              "\n",
              "      const base64 = btoa(String.fromCharCode.apply(null, chunk));\n",
              "      yield {\n",
              "        response: {\n",
              "          action: 'append',\n",
              "          file: file.name,\n",
              "          data: base64,\n",
              "        },\n",
              "      };\n",
              "\n",
              "      let percentDone = fileData.byteLength === 0 ?\n",
              "          100 :\n",
              "          Math.round((position / fileData.byteLength) * 100);\n",
              "      percent.textContent = `${percentDone}% done`;\n",
              "\n",
              "    } while (position < fileData.byteLength);\n",
              "  }\n",
              "\n",
              "  // All done.\n",
              "  yield {\n",
              "    response: {\n",
              "      action: 'complete',\n",
              "    }\n",
              "  };\n",
              "}\n",
              "\n",
              "scope.google = scope.google || {};\n",
              "scope.google.colab = scope.google.colab || {};\n",
              "scope.google.colab._files = {\n",
              "  _uploadFiles,\n",
              "  _uploadFilesContinue,\n",
              "};\n",
              "})(self);\n",
              "</script> "
            ]
          },
          "metadata": {}
        },
        {
          "output_type": "stream",
          "name": "stdout",
          "text": [
            "Saving kaggle.json to kaggle.json\n"
          ]
        },
        {
          "output_type": "execute_result",
          "data": {
            "text/plain": [
              "{'kaggle.json': b'{\"username\":\"shubhamkumarvaish\",\"key\":\"e9b84c4d3ac13462bad15f7f3412e375\"}'}"
            ]
          },
          "metadata": {},
          "execution_count": 2
        }
      ]
    },
    {
      "cell_type": "code",
      "source": [
        "! mkdir ~/.kaggle"
      ],
      "metadata": {
        "id": "kGhapHj3yrnI"
      },
      "execution_count": 3,
      "outputs": []
    },
    {
      "cell_type": "code",
      "source": [
        "! cp kaggle.json ~/.kaggle/"
      ],
      "metadata": {
        "id": "aniBSFLFyrqR"
      },
      "execution_count": 4,
      "outputs": []
    },
    {
      "cell_type": "code",
      "source": [
        "! chmod 600 ~/.kaggle/kaggle.json"
      ],
      "metadata": {
        "id": "6OYBaNAVyrtM"
      },
      "execution_count": 5,
      "outputs": []
    },
    {
      "cell_type": "code",
      "source": [
        "!kaggle competitions download -c santa-2022"
      ],
      "metadata": {
        "colab": {
          "base_uri": "https://localhost:8080/"
        },
        "id": "E7MI-Q83yrwj",
        "outputId": "512de1e5-4027-4820-b0cb-0de6e11dfed2"
      },
      "execution_count": 6,
      "outputs": [
        {
          "output_type": "stream",
          "name": "stdout",
          "text": [
            "Downloading santa-2022.zip to /content\n",
            "100% 809k/809k [00:00<00:00, 1.01MB/s]\n",
            "100% 809k/809k [00:00<00:00, 1.01MB/s]\n"
          ]
        }
      ]
    },
    {
      "cell_type": "code",
      "source": [
        "!unzip /content/santa-2022.zip"
      ],
      "metadata": {
        "colab": {
          "base_uri": "https://localhost:8080/"
        },
        "id": "eeAFfmR7yrzk",
        "outputId": "75b5c5ee-9fe2-4238-ac82-747c45a97a62"
      },
      "execution_count": 7,
      "outputs": [
        {
          "output_type": "stream",
          "name": "stdout",
          "text": [
            "Archive:  /content/santa-2022.zip\n",
            "  inflating: image.csv               \n",
            "  inflating: image.png               \n",
            "  inflating: sample_submission.csv   \n"
          ]
        }
      ]
    },
    {
      "cell_type": "code",
      "source": [
        "import numpy as np, pandas as pd\n",
        "\n",
        "# Read image as a numpy array:\n",
        "df_image = pd.read_csv('/content/image.csv')\n",
        "side = df_image.x.nunique()\n",
        "radius = df_image.x.max()\n",
        "image = df_image[['r','g','b']].values.reshape(side,side,-1)\n",
        "\n",
        "# Flip X axis and transpose X-Y axes to simplify cartesian to array mapping:\n",
        "image = image[::-1,:,:]\n",
        "image = np.transpose(image, (1, 0, 2))"
      ],
      "metadata": {
        "id": "IYLUV3rsz1la"
      },
      "execution_count": 21,
      "outputs": []
    },
    {
      "cell_type": "code",
      "source": [
        "from functools import reduce\n",
        "\n",
        "def get_position(config):\n",
        "    return reduce(lambda p, q: (p[0] + q[0], p[1] + q[1]), config, (0, 0))\n",
        "\n",
        "def compress_path(path):\n",
        "    \n",
        "    if len(path) > 2:\n",
        "        \n",
        "        new_path = []\n",
        "        \n",
        "        max_conf_dist = 1\n",
        "        \n",
        "        r = [[] for _ in range(len(path[0]))]\n",
        "        \n",
        "        for p in path:\n",
        "            for i, c in enumerate(p):\n",
        "\n",
        "                if len(r[i]) == 0 or r[i][-1] != c:\n",
        "                    \n",
        "                    if c not in r[i]:\n",
        "                        r[i].append(c)\n",
        "                    else:\n",
        "                        r[i] = r[i][:r[i].index(c) + 1]\n",
        "                        \n",
        "                    assert r[i][-1] == c\n",
        "        \n",
        "        max_conf_dist = max([len(r_) for r_ in r])\n",
        "        \n",
        "        for i in range(max_conf_dist):\n",
        "            \n",
        "            new_conf = []\n",
        "            \n",
        "            for _, r_ in enumerate(r):\n",
        "                \n",
        "                if i < len(r_):\n",
        "                    c_ = r_[i]\n",
        "                else:\n",
        "                    c_ = r_[-1]\n",
        "                \n",
        "                new_conf.append(c_)\n",
        "            \n",
        "            new_path.append(new_conf)\n",
        "            \n",
        "        return new_path\n",
        "                               \n",
        "        \n",
        "    return path\n",
        "\n",
        "def rotate_link(vector, direction):\n",
        "    x, y = vector\n",
        "    if direction == 1:  # counter-clockwise\n",
        "        if y >= x and y > -x:\n",
        "            x -= 1\n",
        "        elif y > x and y <= -x:\n",
        "            y -= 1\n",
        "        elif y <= x and y < -x:\n",
        "            x += 1\n",
        "        else:\n",
        "            y += 1\n",
        "    elif direction == -1:  # clockwise\n",
        "        if y > x and y >= -x:\n",
        "            x += 1\n",
        "        elif y >= x and y < -x:\n",
        "            y += 1\n",
        "        elif y < x and y <= -x:\n",
        "            x -= 1\n",
        "        else:\n",
        "            y -= 1\n",
        "    return (x, y)\n",
        "\n",
        "def rotate(config, i, direction):\n",
        "    config = config.copy()\n",
        "    config[i] = rotate_link(config[i], direction)\n",
        "    return config\n",
        "\n",
        "def get_direction(u, v):\n",
        "    \"\"\"Returns the sign of the angle from u to v.\"\"\"\n",
        "    direction = np.sign(np.cross(u, v))\n",
        "    if direction == 0 and np.dot(u, v) < 0:\n",
        "        direction = 1\n",
        "    return direction\n",
        "\n",
        "def color_cost(from_position, to_position, image, color_scale=3.0):\n",
        "    return np.abs(image[to_position] - image[from_position]).sum() * color_scale\n",
        "\n",
        "def get_path_to_point(config, point):\n",
        "    \"\"\"Find a path of configurations to `point` starting at `config`.\"\"\"\n",
        "    path = [config]\n",
        "    # Rotate each link, starting with the largest, until the point can\n",
        "    # be reached by the remaining links. The last link must reach the\n",
        "    # point itself.\n",
        "    for i in range(len(config)):\n",
        "        link = config[i]\n",
        "        base = get_position(config[:i])\n",
        "        relbase = (point[0] - base[0], point[1] - base[1])\n",
        "        position = get_position(config[:i+1])\n",
        "        relpos = (point[0] - position[0], point[1] - position[1])\n",
        "        radius = reduce(lambda r, link: r + max(abs(link[0]), abs(link[1])), config[i+1:], 0)\n",
        "        # Special case when next-to-last link lands on point.\n",
        "        if radius == 1 and relpos == (0, 0):\n",
        "            config = rotate(config, i, 1)\n",
        "            if get_position(config) == point:  # Thanks @pgeiger\n",
        "                path.append(config)\n",
        "                break\n",
        "            else:\n",
        "                continue\n",
        "        while np.max(np.abs(relpos)) > radius:\n",
        "            direction = get_direction(link, relbase)\n",
        "            config = rotate(config, i, direction)\n",
        "            path.append(config)\n",
        "            link = config[i]\n",
        "            base = get_position(config[:i])\n",
        "            relbase = (point[0] - base[0], point[1] - base[1])\n",
        "            position = get_position(config[:i+1])\n",
        "            relpos = (point[0] - position[0], point[1] - position[1])\n",
        "            radius = reduce(lambda r, link: r + max(abs(link[0]), abs(link[1])), config[i+1:], 0)\n",
        "    assert get_position(path[-1]) == point\n",
        "    \n",
        "    path = compress_path(path)\n",
        "    \n",
        "    return path\n",
        "\n",
        "def get_path_to_configuration(from_config, to_config):\n",
        "    path = [from_config]\n",
        "    config = from_config.copy()\n",
        "    while config != to_config:\n",
        "        for i in range(len(config)):\n",
        "            config = rotate(config, i, get_direction(config[i], to_config[i]))\n",
        "        path.append(config)\n",
        "    assert path[-1] == to_config\n",
        "    \n",
        "    path = compress_path(path)\n",
        "    \n",
        "    return path\n",
        "\n",
        "def config_to_string(config):\n",
        "    return ';'.join([' '.join(map(str, vector)) for vector in config])"
      ],
      "metadata": {
        "id": "zuUkrPe5zNeW"
      },
      "execution_count": 23,
      "outputs": []
    },
    {
      "cell_type": "code",
      "source": [
        "import numpy as np, pandas as pd\n",
        "\n",
        "# Read image as a numpy array:\n",
        "df_image = pd.read_csv('/content/image.csv')\n",
        "side = df_image.x.nunique()\n",
        "radius = df_image.x.max()\n",
        "image = df_image[['r','g','b']].values.reshape(side,side,-1)\n",
        "\n",
        "# Flip X axis and transpose X-Y axes to simplify cartesian to array mapping:\n",
        "image = image[::-1,:,:]\n",
        "image = np.transpose(image, (1, 0, 2))"
      ],
      "metadata": {
        "id": "n2vpjbZf1DdQ"
      },
      "execution_count": 24,
      "outputs": []
    },
    {
      "cell_type": "code",
      "source": [
        "# Prepare pixel travel map:\n",
        "unvisited = np.ones([side,side]) # one = unvisited pixel; 0 = visited pixel\n",
        "total = side*side - 1 #total number of pixels minus the origin\n",
        "origin = [(64,0),(-32,0),(-16,0),(-8,0),(-4,0),(-2,0),(-1,0),(-1,0)] #origin configuration\n",
        "config = origin.copy() #future configuration\n",
        "\n",
        "# Output header and origin configuration:\n",
        "f = open('submission1.csv', 'w')\n",
        "print('configuration', file=f) #header\n",
        "print(config_to_string(origin), file=f) #origin configuration\n",
        "\n",
        "# Output arrows for visualization:\n",
        "a = open('arrows1.csv', 'w')\n",
        "print('x,y,dx,dy', file=a) #header\n",
        "\n",
        "# Continue until all locations have been visited:\n",
        "while(total):\n",
        "    \n",
        "    # Optimization variables:\n",
        "    cost = 1e6\n",
        "    distance = 1e6\n",
        "    found = False\n",
        "    \n",
        "    # Current configuration:\n",
        "    base = get_position(config)\n",
        "    base_arr = (base[0]+radius, base[1]+radius)\n",
        "    unvisited[base_arr] = 0\n",
        "    \n",
        "    # Is the location one step below unvisited?\n",
        "    if base[1]==-128: #if we reached the bottom border\n",
        "        below = 0\n",
        "    else:\n",
        "        below = unvisited[(base_arr[0],base_arr[1]-1)]\n",
        "    \n",
        "    # Single-link step:\n",
        "    for i in range(len(origin)): #for each arm link\n",
        "        for d in [-1,1]: #for each direction\n",
        "            # Rotate link and get new position and vertical displacement:\n",
        "            config2 = rotate(config, i, d)\n",
        "            pos = get_position(config2)\n",
        "            dy = pos[1] - base[1]\n",
        "            \n",
        "            # Convert from cartesian to array coordinates and measure cost:\n",
        "            pos_arr = (pos[0]+radius, pos[1]+radius)\n",
        "            cost2 = 1 + color_cost(base_arr, pos_arr, image)\n",
        "            \n",
        "            # Must move down unless impossible:\n",
        "            if unvisited[pos_arr] and cost2<cost and (dy<0 or (dy>=0 and below==0)): \n",
        "                config_next = config2.copy()\n",
        "                cost = cost2\n",
        "                found = True\n",
        "\n",
        "    # Double-link step:\n",
        "    for i in range(len(origin)-1):\n",
        "        for d1 in [-1,1]:\n",
        "            for j in range(i+1,len(origin)):\n",
        "                for d2 in [-1,1]:\n",
        "                    # Rotate two separate links, get position and vertical displacement:\n",
        "                    config2 = rotate(config, i, d1)\n",
        "                    config2 = rotate(config2, j, d2)\n",
        "                    pos = get_position(config2)\n",
        "                    dy = pos[1] - base[1]\n",
        "                    \n",
        "                    # Convert from cartesian to array coordinates and measure cost:\n",
        "                    pos_arr = (pos[0]+radius, pos[1]+radius)\n",
        "                    cost2 = np.sqrt(2) + color_cost(base_arr, pos_arr, image)\n",
        "                    \n",
        "                    # Must move down unless impossible:\n",
        "                    if(unvisited[pos_arr] and cost2 < cost and below==0): \n",
        "                        config_next = config2.copy()\n",
        "                        cost = cost2\n",
        "                        found = True\n",
        "                        \n",
        "    # If an unvisited point was found, we are done for this step:\n",
        "    if found:\n",
        "        config = config_next.copy()\n",
        "        pos = get_position(config)\n",
        "        total -= 1\n",
        "        \n",
        "        # Print configuration and arrows:\n",
        "        print(config_to_string(config), file=f)\n",
        "        print(base[0],',',base[1],',',pos[0]-base[0],',',pos[1]-base[1], file=a)\n",
        "        \n",
        "    # Otherwise, find the nearest unvisited point and go there ignoring the travel map:\n",
        "    else:\n",
        "        # Search every single pixel of the travel map for unvisited points:\n",
        "        for i in range(side): \n",
        "            for j in range(side): \n",
        "                if unvisited[(i,j)]:\n",
        "                    \n",
        "                    # Measure the distance to the current point and choose the nearest one:\n",
        "                    #changed base_arr[1] to 0\n",
        "                    distance2 = np.sqrt((base_arr[0]-i)**2 + (base_arr[1]-j)**2)\n",
        "                    if(distance2 < distance):\n",
        "                        point = (i-radius, j-radius)\n",
        "                        distance = distance2\n",
        "                        \n",
        "        # Go to the nearest unvisited point:\n",
        "        path = get_path_to_point(config, point)[1:]\n",
        "        \n",
        "        # Output shortest trajectory:\n",
        "        for config in path:\n",
        "            pos = get_position(config)\n",
        "            pos_arr = (pos[0]+radius, pos[1]+radius)\n",
        "            \n",
        "            # Update the travel map:\n",
        "            if unvisited[pos_arr]:\n",
        "                unvisited[pos_arr] = 0\n",
        "                total -= 1\n",
        "                \n",
        "            # Print configuration and arrows:\n",
        "            print(config_to_string(config), file=f)\n",
        "            print(base[0],',',base[1],',',pos[0]-base[0],',',pos[1]-base[1], file=a)\n",
        "            base = pos\n",
        "\n",
        "# Return to origin:\n",
        "base = get_position(config)\n",
        "path = get_path_to_configuration(config, origin)[1:]\n",
        "\n",
        "# Output return trajectory:\n",
        "for config in path:\n",
        "    pos = get_position(config)\n",
        "    \n",
        "    # Print configuration and arrows:\n",
        "    print(config_to_string(config), file=f)\n",
        "    print(base[0],',',base[1],',',pos[0]-base[0],',',pos[1]-base[1], file=a)\n",
        "    base = pos\n",
        "\n",
        "# Close output files:\n",
        "f.close()\n",
        "a.close()"
      ],
      "metadata": {
        "colab": {
          "base_uri": "https://localhost:8080/",
          "height": 235
        },
        "id": "iVYyE5dP1jLp",
        "outputId": "2636464d-638d-45fb-f299-dde412d27379"
      },
      "execution_count": 29,
      "outputs": [
        {
          "output_type": "error",
          "ename": "KeyboardInterrupt",
          "evalue": "ignored",
          "traceback": [
            "\u001b[0;31m---------------------------------------------------------------------------\u001b[0m",
            "\u001b[0;31mKeyboardInterrupt\u001b[0m                         Traceback (most recent call last)",
            "\u001b[0;32m<ipython-input-29-5c64a38ee5fc>\u001b[0m in \u001b[0;36m<module>\u001b[0;34m\u001b[0m\n\u001b[1;32m     91\u001b[0m                     \u001b[0;31m# Measure the distance to the current point and choose the nearest one:\u001b[0m\u001b[0;34m\u001b[0m\u001b[0;34m\u001b[0m\u001b[0;34m\u001b[0m\u001b[0m\n\u001b[1;32m     92\u001b[0m                     \u001b[0;31m#changed base_arr[1] to 0\u001b[0m\u001b[0;34m\u001b[0m\u001b[0;34m\u001b[0m\u001b[0;34m\u001b[0m\u001b[0m\n\u001b[0;32m---> 93\u001b[0;31m                     \u001b[0mdistance2\u001b[0m \u001b[0;34m=\u001b[0m \u001b[0mnp\u001b[0m\u001b[0;34m.\u001b[0m\u001b[0msqrt\u001b[0m\u001b[0;34m(\u001b[0m\u001b[0;34m(\u001b[0m\u001b[0mbase_arr\u001b[0m\u001b[0;34m[\u001b[0m\u001b[0;36m0\u001b[0m\u001b[0;34m]\u001b[0m\u001b[0;34m-\u001b[0m\u001b[0mi\u001b[0m\u001b[0;34m)\u001b[0m\u001b[0;34m**\u001b[0m\u001b[0;36m2\u001b[0m \u001b[0;34m+\u001b[0m \u001b[0;34m(\u001b[0m\u001b[0mbase_arr\u001b[0m\u001b[0;34m[\u001b[0m\u001b[0;36m0\u001b[0m\u001b[0;34m]\u001b[0m\u001b[0;34m-\u001b[0m\u001b[0mj\u001b[0m\u001b[0;34m)\u001b[0m\u001b[0;34m**\u001b[0m\u001b[0;36m2\u001b[0m\u001b[0;34m)\u001b[0m\u001b[0;34m\u001b[0m\u001b[0;34m\u001b[0m\u001b[0m\n\u001b[0m\u001b[1;32m     94\u001b[0m                     \u001b[0;32mif\u001b[0m\u001b[0;34m(\u001b[0m\u001b[0mdistance2\u001b[0m \u001b[0;34m<\u001b[0m \u001b[0mdistance\u001b[0m\u001b[0;34m)\u001b[0m\u001b[0;34m:\u001b[0m\u001b[0;34m\u001b[0m\u001b[0;34m\u001b[0m\u001b[0m\n\u001b[1;32m     95\u001b[0m                         \u001b[0mpoint\u001b[0m \u001b[0;34m=\u001b[0m \u001b[0;34m(\u001b[0m\u001b[0mi\u001b[0m\u001b[0;34m-\u001b[0m\u001b[0mradius\u001b[0m\u001b[0;34m,\u001b[0m \u001b[0mj\u001b[0m\u001b[0;34m-\u001b[0m\u001b[0mradius\u001b[0m\u001b[0;34m)\u001b[0m\u001b[0;34m\u001b[0m\u001b[0;34m\u001b[0m\u001b[0m\n",
            "\u001b[0;31mKeyboardInterrupt\u001b[0m: "
          ]
        }
      ]
    },
    {
      "cell_type": "code",
      "source": [
        "gnuplot"
      ],
      "metadata": {
        "colab": {
          "base_uri": "https://localhost:8080/",
          "height": 165
        },
        "id": "9yl7OZNy1l7u",
        "outputId": "cb30e1f9-0275-467d-96ec-0b5c6d8f86d3"
      },
      "execution_count": 26,
      "outputs": [
        {
          "output_type": "error",
          "ename": "NameError",
          "evalue": "ignored",
          "traceback": [
            "\u001b[0;31m---------------------------------------------------------------------------\u001b[0m",
            "\u001b[0;31mNameError\u001b[0m                                 Traceback (most recent call last)",
            "\u001b[0;32m<ipython-input-26-cfa3aa7d19cd>\u001b[0m in \u001b[0;36m<module>\u001b[0;34m\u001b[0m\n\u001b[0;32m----> 1\u001b[0;31m \u001b[0mgnuplot\u001b[0m\u001b[0;34m\u001b[0m\u001b[0;34m\u001b[0m\u001b[0m\n\u001b[0m",
            "\u001b[0;31mNameError\u001b[0m: name 'gnuplot' is not defined"
          ]
        }
      ]
    },
    {
      "cell_type": "code",
      "source": [
        "set terminal jpeg size 5000,5000\n",
        "set output 'plot.png'\n",
        "set key autotitle columnhead\n",
        "set datafile separator ','\n",
        "set size ratio -1\n",
        "plot '/content/image.csv' u 1:2:($3*256):($4*256):($5*256) w rgbimage,\\\n",
        "'arrows.csv' u 1:2:3:4 w vectors"
      ],
      "metadata": {
        "colab": {
          "base_uri": "https://localhost:8080/",
          "height": 131
        },
        "id": "YOHsllSN1pfn",
        "outputId": "ecb61557-780a-45d8-937d-25212cafed5b"
      },
      "execution_count": 27,
      "outputs": [
        {
          "output_type": "error",
          "ename": "SyntaxError",
          "evalue": "ignored",
          "traceback": [
            "\u001b[0;36m  File \u001b[0;32m\"<ipython-input-27-0520f6e590c4>\"\u001b[0;36m, line \u001b[0;32m1\u001b[0m\n\u001b[0;31m    set terminal jpeg size 5000,5000\u001b[0m\n\u001b[0m        ^\u001b[0m\n\u001b[0;31mSyntaxError\u001b[0m\u001b[0;31m:\u001b[0m invalid syntax\n"
          ]
        }
      ]
    },
    {
      "cell_type": "code",
      "source": [],
      "metadata": {
        "id": "1xV5ZRuX1pjA"
      },
      "execution_count": null,
      "outputs": []
    }
  ]
}